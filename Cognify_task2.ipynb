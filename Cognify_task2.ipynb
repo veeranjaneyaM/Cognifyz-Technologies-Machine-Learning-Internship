{
  "nbformat": 4,
  "nbformat_minor": 0,
  "metadata": {
    "colab": {
      "provenance": [],
      "authorship_tag": "ABX9TyPHXENNJ5oFh+V8l2KGfMzc",
      "include_colab_link": true
    },
    "kernelspec": {
      "name": "python3",
      "display_name": "Python 3"
    },
    "language_info": {
      "name": "python"
    }
  },
  "cells": [
    {
      "cell_type": "markdown",
      "metadata": {
        "id": "view-in-github",
        "colab_type": "text"
      },
      "source": [
        "<a href=\"https://colab.research.google.com/github/veeranjaneyaM/Cognifyz-Technologies-Machine-Learning-Internship/blob/main/Cognify_task2.ipynb\" target=\"_parent\"><img src=\"https://colab.research.google.com/assets/colab-badge.svg\" alt=\"Open In Colab\"/></a>"
      ]
    },
    {
      "cell_type": "code",
      "execution_count": 5,
      "metadata": {
        "colab": {
          "base_uri": "https://localhost:8080/"
        },
        "id": "xsOHqKYQH3BL",
        "outputId": "2c7dd17e-651b-44b6-af37-b932fe583dc0"
      },
      "outputs": [
        {
          "output_type": "stream",
          "name": "stdout",
          "text": [
            "Top 5 Restaurant Recommendations Based on Your Preferences:\n",
            "                      name            cuisine price_range  rating\n",
            "185            Tokyo Sushi    Japanese, Sushi      Medium     3.7\n",
            "187   Sakura Sushi & Grill    Asian, Japanese      Medium     3.1\n",
            "6400       Dimsum Vs Sushi  Japanese, Chinese      Medium     3.4\n",
            "260               Miyabi 9    Japanese, Sushi      Medium     4.8\n",
            "383                Ichiban    Japanese, Sushi      Medium     4.3\n"
          ]
        }
      ],
      "source": [
        "import pandas as pd\n",
        "from sklearn.feature_extraction.text import CountVectorizer\n",
        "from sklearn.metrics.pairwise import cosine_similarity\n",
        "\n",
        "# Step 1: Load and preprocess the dataset\n",
        "df = pd.read_csv('restaurants.csv')\n",
        "\n",
        "# Select and rename important columns for clarity\n",
        "df = df[['Restaurant Name', 'City', 'Cuisines', 'Price range', 'Aggregate rating']]\n",
        "df.columns = ['name', 'city', 'cuisine', 'price_range', 'rating']\n",
        "\n",
        "# Handle missing values\n",
        "df.fillna({'cuisine': 'Unknown', 'price_range': 2, 'rating': df['rating'].mean()}, inplace=True)\n",
        "\n",
        "# Convert price range to categorical (Low, Medium, High)\n",
        "def price_label(price):\n",
        "    if price == 1:\n",
        "        return 'Low'\n",
        "    elif price == 2:\n",
        "        return 'Medium'\n",
        "    else:\n",
        "        return 'High'\n",
        "df['price_range'] = df['price_range'].apply(price_label)\n",
        "\n",
        "# Step 2: Combine features for vectorization\n",
        "df['combined_features'] = df['cuisine'] + \" \" + df['price_range']\n",
        "\n",
        "# Step 3: Vectorize features\n",
        "vectorizer = CountVectorizer()\n",
        "feature_matrix = vectorizer.fit_transform(df['combined_features'])\n",
        "\n",
        "# Step 4: Define user preferences\n",
        "user_preferences = {\n",
        "    'cuisine': 'Japanese',\n",
        "    'price_range': 'Medium'\n",
        "}\n",
        "user_pref_string = user_preferences['cuisine'] + \" \" + user_preferences['price_range']\n",
        "user_vector = vectorizer.transform([user_pref_string])\n",
        "\n",
        "# Step 5: Compute similarity and get recommendations\n",
        "similarity_scores = cosine_similarity(user_vector, feature_matrix)\n",
        "top_indices = similarity_scores[0].argsort()[-5:][::-1]\n",
        "recommended_restaurants = df.iloc[top_indices]\n",
        "\n",
        "# Step 6: Display recommendations\n",
        "print(\"Top 5 Restaurant Recommendations Based on Your Preferences:\")\n",
        "print(recommended_restaurants[['name', 'cuisine', 'price_range', 'rating']])\n"
      ]
    }
  ]
}